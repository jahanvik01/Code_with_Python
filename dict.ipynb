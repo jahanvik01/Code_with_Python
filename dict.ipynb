{
 "cells": [
  {
   "cell_type": "code",
   "execution_count": 2,
   "id": "66a46f57-fc02-4175-8263-38d8e5c9ab18",
   "metadata": {},
   "outputs": [
    {
     "name": "stdout",
     "output_type": "stream",
     "text": [
      "Jahanvi\n",
      "None\n"
     ]
    }
   ],
   "source": [
    "my_dict = {'Name': 'Jahanvi', 'Age': '21', 'Country': 'India'}\n",
    "print(my_dict.get('Name'))\n",
    "print(my_dict.get('Gender'))"
   ]
  },
  {
   "cell_type": "code",
   "execution_count": 3,
   "id": "dacbd1a0-47f8-4993-b97e-de9a2b8ea8bf",
   "metadata": {},
   "outputs": [
    {
     "name": "stdout",
     "output_type": "stream",
     "text": [
      "3\n"
     ]
    }
   ],
   "source": [
    "#length\n",
    "length = len(my_dict)\n",
    "print(length)"
   ]
  },
  {
   "cell_type": "code",
   "execution_count": 16,
   "id": "8f16a7ea-ba42-444c-9a86-5584b0bff53f",
   "metadata": {},
   "outputs": [
    {
     "name": "stdout",
     "output_type": "stream",
     "text": [
      "None\n"
     ]
    }
   ],
   "source": [
    "#get\n",
    "age = my_dict.get('Age')\n",
    "print(age)"
   ]
  },
  {
   "cell_type": "code",
   "execution_count": 9,
   "id": "5828f73b-0da4-4c2c-8883-c0ff2a66112a",
   "metadata": {},
   "outputs": [
    {
     "name": "stdout",
     "output_type": "stream",
     "text": [
      "Age\n",
      "21\n"
     ]
    }
   ],
   "source": [
    "#items\n",
    "print(list(d.items())[1][0])\n",
    "print(list(d.items())[1][1])"
   ]
  },
  {
   "cell_type": "code",
   "execution_count": 11,
   "id": "3910379a-5a89-4397-9bd3-1e06bf5458ab",
   "metadata": {},
   "outputs": [
    {
     "name": "stdout",
     "output_type": "stream",
     "text": [
      "Keys:  ['Name', 'Age', 'Country']\n",
      "values:  ['Jahanvi', '21', 'India']\n"
     ]
    }
   ],
   "source": [
    "#keys and values\n",
    "print(\"Keys: \", list(d.keys()))\n",
    "print(\"values: \", list(d.values()))"
   ]
  },
  {
   "cell_type": "code",
   "execution_count": 12,
   "id": "737e37d8-8bbc-4000-a118-2ac8f00c1d04",
   "metadata": {},
   "outputs": [
    {
     "name": "stdout",
     "output_type": "stream",
     "text": [
      "{'Name': 'Jahanvi', 'Age': '22', 'Country': 'India'}\n"
     ]
    }
   ],
   "source": [
    "#update\n",
    "dict2 = {\"Age\": '22'}\n",
    "my_dict.update(dict2)\n",
    "print(my_dict)"
   ]
  },
  {
   "cell_type": "code",
   "execution_count": 13,
   "id": "174ea734-2596-45da-84e0-2d769624a0d3",
   "metadata": {},
   "outputs": [
    {
     "name": "stdout",
     "output_type": "stream",
     "text": [
      "{'Name': 'Jahanvi', 'Country': 'India'}\n"
     ]
    }
   ],
   "source": [
    "#pop\n",
    "my_dict.pop('Age')\n",
    "print(my_dict)"
   ]
  },
  {
   "cell_type": "code",
   "execution_count": 19,
   "id": "1b50d37c-3804-423f-874d-2b7a5a0cc7d7",
   "metadata": {},
   "outputs": [
    {
     "name": "stdout",
     "output_type": "stream",
     "text": [
      "{'Game': 0, 'Fruit': 0, 'Season': 0}\n"
     ]
    }
   ],
   "source": [
    "#fromkeys(key, value)\n",
    "keys = ['Game','Fruit','Season']\n",
    "default_values = 0\n",
    "new_dict = dict.fromkeys(keys, default_values)\n",
    "print(new_dict)"
   ]
  },
  {
   "cell_type": "code",
   "execution_count": 20,
   "id": "f6893a6e-07c8-4c22-b18d-92e38d30bdc9",
   "metadata": {},
   "outputs": [
    {
     "name": "stdout",
     "output_type": "stream",
     "text": [
      "{'A': 1, 'B': 2, 'C': 3}\n"
     ]
    }
   ],
   "source": [
    "#dict\n",
    "key_value_pairs = [('A',1),('B',2),('C',3)]\n",
    "new_dict = dict(key_value_pairs)\n",
    "print(new_dict)"
   ]
  },
  {
   "cell_type": "code",
   "execution_count": 24,
   "id": "55bf3e69-3440-441b-a0b1-4006b52a8f3f",
   "metadata": {},
   "outputs": [
    {
     "name": "stdout",
     "output_type": "stream",
     "text": [
      "{}\n"
     ]
    }
   ],
   "source": [
    "#clear\n",
    "my_dict.clear()\n",
    "print(my_dict)"
   ]
  },
  {
   "cell_type": "code",
   "execution_count": 21,
   "id": "52d50259-01b7-468f-a3cd-fafd1fac5287",
   "metadata": {},
   "outputs": [
    {
     "name": "stdout",
     "output_type": "stream",
     "text": [
      "{1: 1, 2: 4, 3: 9, 4: 16}\n"
     ]
    }
   ],
   "source": [
    "#dictionary comprehension\n",
    "square_dict = {x:x**2 for x in range(1,5)}\n",
    "print(square_dict)"
   ]
  }
 ],
 "metadata": {
  "kernelspec": {
   "display_name": "Python 3 (ipykernel)",
   "language": "python",
   "name": "python3"
  },
  "language_info": {
   "codemirror_mode": {
    "name": "ipython",
    "version": 3
   },
   "file_extension": ".py",
   "mimetype": "text/x-python",
   "name": "python",
   "nbconvert_exporter": "python",
   "pygments_lexer": "ipython3",
   "version": "3.11.4"
  }
 },
 "nbformat": 4,
 "nbformat_minor": 5
}
