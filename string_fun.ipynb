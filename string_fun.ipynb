{
 "cells": [
  {
   "cell_type": "code",
   "execution_count": 6,
   "id": "e68d3080-f7cf-44d3-92ff-409dc7926f89",
   "metadata": {},
   "outputs": [
    {
     "name": "stdout",
     "output_type": "stream",
     "text": [
      "Hello world, My name is Jahanvi!\n"
     ]
    }
   ],
   "source": [
    "text = \"Hello world, My name is Jahanvi!\"\n",
    "print(text)"
   ]
  },
  {
   "cell_type": "code",
   "execution_count": 7,
   "id": "3881d2b1-710d-4abd-9118-0ffd34a509d2",
   "metadata": {},
   "outputs": [
    {
     "name": "stdout",
     "output_type": "stream",
     "text": [
      "Length of the text is 32\n"
     ]
    }
   ],
   "source": [
    "#length of string\n",
    "length = len(text)\n",
    "print(\"Length of the text is\", length)"
   ]
  },
  {
   "cell_type": "code",
   "execution_count": 20,
   "id": "e483c69b-f343-4710-bee4-a686aa39f070",
   "metadata": {},
   "outputs": [
    {
     "name": "stdout",
     "output_type": "stream",
     "text": [
      "substring:  Hello world\n",
      "substring1: Hello world\n",
      "substring2: My name is Jahanvi!\n",
      "substring3: Jahanvi\n"
     ]
    }
   ],
   "source": [
    "#string slicing\n",
    "substring = text[0:11]\n",
    "print(\"substring: \",substring)\n",
    "\n",
    "substring1 = text[:11]\n",
    "substring2 = text[13:]\n",
    "print(\"substring1:\", substring1)\n",
    "print(\"substring2:\", substring2)\n",
    "\n",
    "substring3 = text[-8:-1]\n",
    "print(\"substring3:\", substring3)"
   ]
  },
  {
   "cell_type": "code",
   "execution_count": 21,
   "id": "8a5f898f-8d22-40a6-9ee1-4d2de23063e6",
   "metadata": {},
   "outputs": [
    {
     "name": "stdout",
     "output_type": "stream",
     "text": [
      "HELLO WORLD, MY NAME IS JAHANVI!\n",
      "hello world, my name is jahanvi!\n"
     ]
    }
   ],
   "source": [
    "#upper and lower case\n",
    "up_text = text.upper()\n",
    "print(up_text)\n",
    "lw_text = text.lower()\n",
    "print(lw_text)"
   ]
  },
  {
   "cell_type": "code",
   "execution_count": 23,
   "id": "2699771c-cf61-4b99-869b-3efd035e5e31",
   "metadata": {},
   "outputs": [
    {
     "name": "stdout",
     "output_type": "stream",
     "text": [
      "['Hello', 'world,', 'My', 'name', 'is', 'Jahanvi!']\n"
     ]
    }
   ],
   "source": [
    "#splitting\n",
    "words = text.split(\" \")\n",
    "print(words)"
   ]
  },
  {
   "cell_type": "code",
   "execution_count": 27,
   "id": "e1c272d0-79ae-42a9-9449-42df9f6a80dc",
   "metadata": {},
   "outputs": [
    {
     "name": "stdout",
     "output_type": "stream",
     "text": [
      "2\n"
     ]
    }
   ],
   "source": [
    "#count\n",
    "text = \"Aditi is my sister and Ayaan is my brother.\"\n",
    "count_my = text.count(\"my\")\n",
    "print(count_my)"
   ]
  },
  {
   "cell_type": "code",
   "execution_count": 28,
   "id": "da904c02-28b6-424f-908c-9ac4193afb93",
   "metadata": {},
   "outputs": [
    {
     "name": "stdout",
     "output_type": "stream",
     "text": [
      "37\n"
     ]
    }
   ],
   "source": [
    "#find\n",
    "position = text.find(\"o\")\n",
    "print(position)"
   ]
  },
  {
   "cell_type": "code",
   "execution_count": null,
   "id": "0a0dc4c1-437f-4120-be04-6554577e4576",
   "metadata": {},
   "outputs": [],
   "source": []
  }
 ],
 "metadata": {
  "kernelspec": {
   "display_name": "Python 3 (ipykernel)",
   "language": "python",
   "name": "python3"
  },
  "language_info": {
   "codemirror_mode": {
    "name": "ipython",
    "version": 3
   },
   "file_extension": ".py",
   "mimetype": "text/x-python",
   "name": "python",
   "nbconvert_exporter": "python",
   "pygments_lexer": "ipython3",
   "version": "3.11.4"
  }
 },
 "nbformat": 4,
 "nbformat_minor": 5
}
