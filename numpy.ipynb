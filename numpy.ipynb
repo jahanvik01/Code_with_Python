{
 "cells": [
  {
   "cell_type": "code",
   "execution_count": 5,
   "id": "5f6db05e-f555-44ed-90d5-bdb757c37bae",
   "metadata": {},
   "outputs": [
    {
     "name": "stdout",
     "output_type": "stream",
     "text": [
      "[10 20 30 40]\n",
      "<class 'numpy.ndarray'>\n",
      "[[10 20 30 40]\n",
      " [50 60 70 80]]\n",
      "<class 'numpy.ndarray'>\n"
     ]
    }
   ],
   "source": [
    "import numpy as np\n",
    "arr1 = np.array([10,20,30,40])\n",
    "print(arr1)\n",
    "print(type(arr1))\n",
    "arr2 = np.array([[10,20,30,40],[50,60,70,80]])\n",
    "print(arr2)\n",
    "print(type(arr2))"
   ]
  },
  {
   "cell_type": "code",
   "execution_count": 6,
   "id": "bad9ec39-1d95-476b-abcc-5fc7afa50426",
   "metadata": {},
   "outputs": [
    {
     "name": "stdout",
     "output_type": "stream",
     "text": [
      "[10 20 30]\n",
      "[40]\n",
      "[30 40]\n"
     ]
    }
   ],
   "source": [
    "#slicing of arr1\n",
    "print(arr1[:3])\n",
    "print(arr1[3:])\n",
    "print(arr1[2:])"
   ]
  },
  {
   "cell_type": "code",
   "execution_count": 7,
   "id": "1bbfc714-194a-4938-bcd3-297b9b65398b",
   "metadata": {},
   "outputs": [
    {
     "name": "stdout",
     "output_type": "stream",
     "text": [
      "[[10 20 30]\n",
      " [50 60 70]]\n",
      "[20 30]\n",
      "[70 80]\n"
     ]
    }
   ],
   "source": [
    "#slicing of arr2\n",
    "print(arr2[:3,:3])\n",
    "print(arr2[0,1:3])\n",
    "print(arr2[1,2:4])"
   ]
  },
  {
   "cell_type": "code",
   "execution_count": 8,
   "id": "c5c64845-076d-4dfb-a2f1-1ebe571648f1",
   "metadata": {},
   "outputs": [
    {
     "name": "stdout",
     "output_type": "stream",
     "text": [
      "Shape of arr1: (4,)\n",
      "Shape of arr2: (2, 4)\n",
      "Size of arr1: 4\n",
      "Size of arr2: 8\n",
      "Dimention of arr1: 1\n",
      "Dimention of arr2: 2\n",
      "Length of arr1: 4\n",
      "length of arr2: 2\n"
     ]
    }
   ],
   "source": [
    "#shape: number of rows and columns\n",
    "print(\"Shape of arr1:\", np.shape(arr1))\n",
    "print(\"Shape of arr2:\", np.shape(arr2))\n",
    "\n",
    "#size: total number of elements\n",
    "print(\"Size of arr1:\", np.size(arr1))\n",
    "print(\"Size of arr2:\", np.size(arr2))\n",
    "\n",
    "#dimension\n",
    "print(\"Dimention of arr1:\", np.ndim(arr1))\n",
    "print(\"Dimention of arr2:\", np.ndim(arr2))\n",
    "\n",
    "#length:number of nested values\n",
    "print(\"Length of arr1:\", len(arr1))\n",
    "print(\"length of arr2:\", len(arr2))"
   ]
  },
  {
   "cell_type": "code",
   "execution_count": 9,
   "id": "f78fd8e3-982c-4b4f-b08a-1c9b03705e75",
   "metadata": {},
   "outputs": [
    {
     "name": "stdout",
     "output_type": "stream",
     "text": [
      "<class 'numpy.ndarray'>\n",
      "<class 'numpy.ndarray'>\n",
      "Data type of arr1: int64\n",
      "Data type of arr2: int64\n",
      "[10. 20. 30. 40.]\n",
      "[[10. 20. 30. 40.]\n",
      " [50. 60. 70. 80.]]\n",
      "[['10' '20' '30' '40']\n",
      " ['50' '60' '70' '80']]\n"
     ]
    }
   ],
   "source": [
    "#datatype of variable\n",
    "print(type(arr1))\n",
    "print(type(arr2))\n",
    "\n",
    "#datatype of array\n",
    "print(\"Data type of arr1:\", arr1.dtype)\n",
    "print(\"Data type of arr2:\", arr2.dtype)\n",
    "\n",
    "#conversion of datatype\n",
    "print(arr1.astype(float))\n",
    "print(arr2.astype(float))\n",
    "print(arr2.astype(str))"
   ]
  },
  {
   "cell_type": "code",
   "execution_count": 10,
   "id": "4e1421ca-44a0-4aeb-9eaf-36c9214f7750",
   "metadata": {},
   "outputs": [
    {
     "name": "stdout",
     "output_type": "stream",
     "text": [
      "[60 60 30 90 50]\n",
      "[60 60 30 90 50]\n",
      "[[60 60]\n",
      " [90 80]]\n",
      "[ 20  40 -10 -30  30]\n",
      "[[ 20  40]\n",
      " [-30   0]]\n",
      "[2.  5.  0.5 0.5 4. ]\n",
      "[[2.  5. ]\n",
      " [0.5 1. ]]\n"
     ]
    }
   ],
   "source": [
    "#mathematical operation\n",
    "#addition\n",
    "arr1 = np.array([40,50,10,30,40])\n",
    "arr2 = np.array([20,10,20,60,10])\n",
    "print(arr1+arr2)\n",
    "print(np.add(arr1,arr2))\n",
    "arr3 = np.array([[40,50],[30,40]])\n",
    "arr4 = np.array([[20,10],[60,40]])\n",
    "print(np.add(arr3,arr4))\n",
    "\n",
    "#subtract\n",
    "print(arr1-arr2)\n",
    "print(np.subtract(arr3,arr4))\n",
    "\n",
    "#division\n",
    "print(arr1/arr2)\n",
    "print(np.divide(arr3,arr4))\n"
   ]
  },
  {
   "cell_type": "code",
   "execution_count": 11,
   "id": "a0d65951-3e25-4224-850a-18183568bc61",
   "metadata": {},
   "outputs": [
    {
     "name": "stdout",
     "output_type": "stream",
     "text": [
      "[16 25  1  9  4]\n",
      "[4. 5. 1. 3. 2.]\n"
     ]
    }
   ],
   "source": [
    "#power\n",
    "arr1 = np.array([4,5,1,3,2])\n",
    "arr2 = np.array([2])\n",
    "print(np.power(arr1,arr2))\n",
    "\n",
    "#square root\n",
    "arr1 = np.array([16,25,1,9,4])\n",
    "print(np.sqrt(arr1))"
   ]
  },
  {
   "cell_type": "code",
   "execution_count": 12,
   "id": "fd5203c7-da3b-4632-9573-496a9fb0674a",
   "metadata": {},
   "outputs": [
    {
     "name": "stdout",
     "output_type": "stream",
     "text": [
      "[10 20 30 40 30 50]\n",
      "[[10 20  5  5]\n",
      " [30 40  3  3]]\n",
      "[[10 20  5  5]\n",
      " [30 40  3  3]]\n",
      "[[10 20]\n",
      " [30 40]\n",
      " [ 5  5]\n",
      " [ 3  3]]\n"
     ]
    }
   ],
   "source": [
    "#join \n",
    "arr1 = np.array([10,20,30,40])\n",
    "arr2 = np.array([30,50])\n",
    "print(np.concatenate([arr1, arr2]))\n",
    "\n",
    "arr3 = np.array([[10,20],[30,40]])\n",
    "arr4 = np.array([[5,5],[3,3]])\n",
    "print(np.concatenate([arr3, arr4],axis=1))\n",
    "\n",
    "print(np.hstack([arr3,arr4]))     #horizontal concatenation\n",
    "print(np.vstack([arr3,arr4]))     #vertical concatenation"
   ]
  },
  {
   "cell_type": "code",
   "execution_count": 13,
   "id": "92d7394f-c26f-4540-a1fe-6f6f07c70341",
   "metadata": {},
   "outputs": [
    {
     "name": "stdout",
     "output_type": "stream",
     "text": [
      "[array([10, 20]), array([30, 40]), array([50, 60])]\n",
      "[array([10, 20]), array([30]), array([40]), array([50]), array([60])]\n"
     ]
    }
   ],
   "source": [
    "#split\n",
    "arr = np.array([10,20,30,40,50,60])\n",
    "print(np.array_split(arr,3))\n",
    "print(np.array_split(arr,5))"
   ]
  },
  {
   "cell_type": "code",
   "execution_count": 14,
   "id": "9c4d7fa8-e2ef-4b6c-9bb2-2eba74a0a554",
   "metadata": {},
   "outputs": [
    {
     "name": "stdout",
     "output_type": "stream",
     "text": [
      "[10 20 30 40 50 60 70 80]\n"
     ]
    }
   ],
   "source": [
    "#append\n",
    "arr = np.array([[10,20],[30,40],[50,60]])\n",
    "print(np.append(arr,[70,80]))   #(array,[value])"
   ]
  },
  {
   "cell_type": "code",
   "execution_count": 17,
   "id": "7aa75a26-1cb8-46a8-96c3-2c020cd8a8ba",
   "metadata": {},
   "outputs": [
    {
     "name": "stdout",
     "output_type": "stream",
     "text": [
      "[[ 10  20]\n",
      " [ 30  40]\n",
      " [ 90 100]\n",
      " [ 50  60]]\n"
     ]
    }
   ],
   "source": [
    "#insert\n",
    "print(np.insert(arr,2,[90,100], axis=0))      #(array, index, [value])"
   ]
  },
  {
   "cell_type": "code",
   "execution_count": 22,
   "id": "4bcccd38-ab90-488c-8e77-4e30a701e58e",
   "metadata": {},
   "outputs": [
    {
     "name": "stdout",
     "output_type": "stream",
     "text": [
      "[[10 20]\n",
      " [50 60]]\n",
      "[[10]\n",
      " [30]\n",
      " [50]]\n"
     ]
    }
   ],
   "source": [
    "#delete\n",
    "print(np.delete(arr,1,axis=0)) \n",
    "print(np.delete(arr,1,axis=1)) "
   ]
  },
  {
   "cell_type": "code",
   "execution_count": 31,
   "id": "fcf7a407-5200-4dca-aa81-7c2314aa85e3",
   "metadata": {},
   "outputs": [
    {
     "name": "stdout",
     "output_type": "stream",
     "text": [
      "Sorted array: [12 13 22 31 42]\n",
      "(array([0, 3, 4]),)\n",
      "1\n"
     ]
    }
   ],
   "source": [
    "#sort\n",
    "ar = np.array([42,13,31,22,12])\n",
    "print(\"Sorted array:\", np.sort(ar))\n",
    "\n",
    "#search\n",
    "s = np.where(ar%2==0)\n",
    "print(s)\n",
    "\n",
    "#searchsorted\n",
    "ss = np.searchsorted(np.sort(ar), 13)\n",
    "print(ss)"
   ]
  },
  {
   "cell_type": "code",
   "execution_count": 35,
   "id": "cc222c21-f8a5-4845-850b-6f892f05760d",
   "metadata": {},
   "outputs": [
    {
     "name": "stdout",
     "output_type": "stream",
     "text": [
      "[42 12]\n"
     ]
    }
   ],
   "source": [
    "#filter\n",
    "fa = ar%3==0\n",
    "new = ar[fa]\n",
    "print(new)"
   ]
  },
  {
   "cell_type": "code",
   "execution_count": 39,
   "id": "7ece45f7-5e3f-45c3-98f2-36eb7f2a1787",
   "metadata": {},
   "outputs": [
    {
     "name": "stdout",
     "output_type": "stream",
     "text": [
      "Minimum: 12\n",
      "Maximum: 42\n",
      "Total: 120\n",
      "Size: 5\n",
      "Mean: 24.0\n",
      "Commulative sum: [ 42  55  86 108 120]\n",
      "Commulative product: [     42     546   16926  372372 4468464]\n"
     ]
    }
   ],
   "source": [
    "#min max sum\n",
    "print(\"Minimum:\", np.min(ar))\n",
    "print(\"Maximum:\", np.max(ar))\n",
    "print(\"Total:\", np.sum(ar))\n",
    "\n",
    "print(\"Size:\", np.size(ar))\n",
    "print(\"Mean:\", np.mean(ar))\n",
    "print(\"Commulative sum:\", np.cumsum(ar))\n",
    "print(\"Commulative product:\", np.cumprod(ar))"
   ]
  },
  {
   "cell_type": "code",
   "execution_count": 51,
   "id": "46383a79-a7ea-4da3-aaf4-5c5bfdd698b2",
   "metadata": {},
   "outputs": [
    {
     "name": "stdout",
     "output_type": "stream",
     "text": [
      " Price: [100 150 120 300 250 200] \n",
      " Quantity: [10 50 40 30 50 20]\n",
      "\n",
      "Total price: 38800\n"
     ]
    }
   ],
   "source": [
    "#to find total price\n",
    "a = [100,150,120,300,250,200]\n",
    "b = [10,50,40,30,50,20]\n",
    "\n",
    "price = np.array(a)\n",
    "quantity = np.array(b)\n",
    "\n",
    "print(\" Price:\", price,\"\\n\",\"Quantity:\", quantity)\n",
    "print()\n",
    "c = np.cumprod([price,quantity], axis=0)\n",
    "print(\"Total price:\", c[1].sum())"
   ]
  },
  {
   "cell_type": "code",
   "execution_count": 65,
   "id": "8a3b1dda-01a0-4c0c-be58-37205fadb179",
   "metadata": {},
   "outputs": [
    {
     "name": "stdout",
     "output_type": "stream",
     "text": [
      "Mean: 201.25\n",
      "Median: 187.5\n",
      "Mode: 100\n",
      "Standard deviation: 78.61098841765062\n",
      "Variance: 6179.6875\n"
     ]
    }
   ],
   "source": [
    "#statistical function\n",
    "import statistics as stats\n",
    "baked_food = [100,120,300,225,320,250,150,145]\n",
    "a = np.array(baked_food)\n",
    "print(\"Mean:\", np.mean(baked_food))\n",
    "print(\"Median:\", np.median(baked_food))\n",
    "print(\"Mode:\", stats.mode(baked_food))\n",
    "print(\"Standard deviation:\", np.std(baked_food))\n",
    "print(\"Variance:\", np.var(baked_food))"
   ]
  },
  {
   "cell_type": "code",
   "execution_count": 68,
   "id": "aef5ef6f-d36b-4796-adc5-ffb71a419d53",
   "metadata": {},
   "outputs": [
    {
     "name": "stdout",
     "output_type": "stream",
     "text": [
      "[[1.         0.99015454]\n",
      " [0.99015454 1.        ]]\n"
     ]
    }
   ],
   "source": [
    "#comparing relationship\n",
    "tobacco_consumption = [30,50,10,30,50,40]\n",
    "deaths = [100,120,70,100,120,112]\n",
    "\n",
    "print(np.corrcoef([tobacco_consumption,deaths]))"
   ]
  },
  {
   "cell_type": "code",
   "execution_count": 69,
   "id": "8b21b1a1-3bdf-46e6-ae98-acef53b43cbc",
   "metadata": {},
   "outputs": [
    {
     "name": "stdout",
     "output_type": "stream",
     "text": [
      "[[ 1.         -0.66621445]\n",
      " [-0.66621445  1.        ]]\n"
     ]
    }
   ],
   "source": [
    "price = [300,100,350,150,200]\n",
    "sales= [10,20,7,17,3]\n",
    "\n",
    "print(np.corrcoef([price,sales]))"
   ]
  },
  {
   "cell_type": "code",
   "execution_count": null,
   "id": "89635acb-4358-48a0-bd34-e825309f2ccc",
   "metadata": {},
   "outputs": [],
   "source": []
  }
 ],
 "metadata": {
  "kernelspec": {
   "display_name": "Python 3 (ipykernel)",
   "language": "python",
   "name": "python3"
  },
  "language_info": {
   "codemirror_mode": {
    "name": "ipython",
    "version": 3
   },
   "file_extension": ".py",
   "mimetype": "text/x-python",
   "name": "python",
   "nbconvert_exporter": "python",
   "pygments_lexer": "ipython3",
   "version": "3.11.4"
  }
 },
 "nbformat": 4,
 "nbformat_minor": 5
}
