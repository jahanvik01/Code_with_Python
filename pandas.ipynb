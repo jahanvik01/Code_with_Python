{
 "cells": [
  {
   "cell_type": "code",
   "execution_count": 1,
   "id": "c9c57ce5-a541-44f1-af94-d8a26317365b",
   "metadata": {},
   "outputs": [
    {
     "name": "stdout",
     "output_type": "stream",
     "text": [
      "   EmpID FirstName  LastName  StartDate   ExitDate                    Title  \\\n",
      "0   3427     Uriah   Bridges  20-Sep-19        NaN  Production Technician I   \n",
      "1   3428     Paula     Small  11-Feb-23        NaN  Production Technician I   \n",
      "2   3429    Edward      Buck  10-Dec-18        NaN       Area Sales Manager   \n",
      "3   3430   Michael   Riordan  21-Jun-21        NaN       Area Sales Manager   \n",
      "4   3431   Jasmine     Onque  29-Jun-19        NaN       Area Sales Manager   \n",
      "5   3432     Maruk    Fraval  17-Jan-20        NaN       Area Sales Manager   \n",
      "6   3433     Latia     Costa  06-Apr-22  03-Jul-23       Area Sales Manager   \n",
      "7   3434  Sharlene     Terry  06-Nov-20  29-Jan-23       Area Sales Manager   \n",
      "8   3435       Jac  McKinzie  18-Aug-18        NaN       Area Sales Manager   \n",
      "9   3436    Joseph   Martins  21-Jan-22  29-Jun-23       Area Sales Manager   \n",
      "\n",
      "        Supervisor                        ADEmail BusinessUnit EmployeeStatus  \\\n",
      "0     Peter Oneill    uriah.bridges@bilearner.com         CCDR         Active   \n",
      "1  Renee Mccormick      paula.small@bilearner.com           EW         Active   \n",
      "2   Crystal Walker      edward.buck@bilearner.com           PL         Active   \n",
      "3   Rebekah Wright  michael.riordan@bilearner.com         CCDR         Active   \n",
      "4        Jason Kim    jasmine.onque@bilearner.com          TNS         Active   \n",
      "5     Sheri Campos     maruk.fraval@bilearner.com          BPC         Active   \n",
      "6      Jacob Braun      latia.costa@bilearner.com          WBL         Active   \n",
      "7    Tracy Marquez   sharlene.terry@bilearner.com         CCDR         Active   \n",
      "8    Sharon Becker     jac.mckinzie@bilearner.com          NEL         Active   \n",
      "9   George Jenkins   joseph.martins@bilearner.com          BPC         Active   \n",
      "\n",
      "   ...              Division         DOB State JobFunctionDescription  \\\n",
      "0  ...  Finance & Accounting  07-10-1969    MA             Accounting   \n",
      "1  ...                Aerial  30-08-1965    MA                  Labor   \n",
      "2  ...         General - Sga  06-10-1991    MA              Assistant   \n",
      "3  ...  Finance & Accounting  04-04-1998    ND                  Clerk   \n",
      "4  ...         General - Con  29-08-1969    FL                Laborer   \n",
      "5  ...      Field Operations  03-04-1949    CT                 Driver   \n",
      "6  ...         General - Eng  01-07-1942    CA             Technician   \n",
      "7  ...             Engineers  07-03-1957    OR               Engineer   \n",
      "8  ...             Executive  15-05-1974    TX    Executive Assistant   \n",
      "9  ...             Engineers  11-11-1949    TX               Engineer   \n",
      "\n",
      "  GenderCode LocationCode  RaceDesc MaritalDesc Performance Score  \\\n",
      "0     Female        34904     White     Widowed       Fully Meets   \n",
      "1       Male         6593  Hispanic     Widowed       Fully Meets   \n",
      "2       Male         2330  Hispanic     Widowed       Fully Meets   \n",
      "3       Male        58782     Other      Single       Fully Meets   \n",
      "4     Female        33174     Other     Married       Fully Meets   \n",
      "5       Male         6050     Black     Married       Fully Meets   \n",
      "6     Female        90007  Hispanic    Divorced           Exceeds   \n",
      "7     Female        97756     White    Divorced       Fully Meets   \n",
      "8       Male        78789     Black     Widowed           Exceeds   \n",
      "9       Male        78207     Asian     Widowed       Fully Meets   \n",
      "\n",
      "  Current Employee Rating  \n",
      "0                       4  \n",
      "1                       3  \n",
      "2                       4  \n",
      "3                       2  \n",
      "4                       3  \n",
      "5                       3  \n",
      "6                       4  \n",
      "7                       2  \n",
      "8                       3  \n",
      "9                       5  \n",
      "\n",
      "[10 rows x 26 columns]\n"
     ]
    }
   ],
   "source": [
    "import pandas as pd\n",
    "data = pd.read_csv(\"employee_data.csv\")\n",
    "#print(data)\n",
    "print(data.head(10))"
   ]
  },
  {
   "cell_type": "code",
   "execution_count": 2,
   "id": "5ab2b09e-71c1-4758-aa7f-49dce1c09ec1",
   "metadata": {},
   "outputs": [
    {
     "name": "stdout",
     "output_type": "stream",
     "text": [
      "0       False\n",
      "1       False\n",
      "2       False\n",
      "3       False\n",
      "4       False\n",
      "        ...  \n",
      "2995    False\n",
      "2996    False\n",
      "2997    False\n",
      "2998    False\n",
      "2999    False\n",
      "Length: 3000, dtype: bool\n"
     ]
    }
   ],
   "source": [
    "print(data.duplicated())"
   ]
  },
  {
   "cell_type": "code",
   "execution_count": 3,
   "id": "957cc61f-2436-48de-9307-10b5d0d7d145",
   "metadata": {},
   "outputs": [
    {
     "name": "stdout",
     "output_type": "stream",
     "text": [
      "<class 'pandas.core.frame.DataFrame'>\n",
      "RangeIndex: 3000 entries, 0 to 2999\n",
      "Data columns (total 26 columns):\n",
      " #   Column                      Non-Null Count  Dtype \n",
      "---  ------                      --------------  ----- \n",
      " 0   EmpID                       3000 non-null   int64 \n",
      " 1   FirstName                   3000 non-null   object\n",
      " 2   LastName                    3000 non-null   object\n",
      " 3   StartDate                   3000 non-null   object\n",
      " 4   ExitDate                    1533 non-null   object\n",
      " 5   Title                       3000 non-null   object\n",
      " 6   Supervisor                  3000 non-null   object\n",
      " 7   ADEmail                     3000 non-null   object\n",
      " 8   BusinessUnit                3000 non-null   object\n",
      " 9   EmployeeStatus              3000 non-null   object\n",
      " 10  EmployeeType                3000 non-null   object\n",
      " 11  PayZone                     3000 non-null   object\n",
      " 12  EmployeeClassificationType  3000 non-null   object\n",
      " 13  TerminationType             3000 non-null   object\n",
      " 14  TerminationDescription      1533 non-null   object\n",
      " 15  DepartmentType              3000 non-null   object\n",
      " 16  Division                    3000 non-null   object\n",
      " 17  DOB                         3000 non-null   object\n",
      " 18  State                       3000 non-null   object\n",
      " 19  JobFunctionDescription      3000 non-null   object\n",
      " 20  GenderCode                  3000 non-null   object\n",
      " 21  LocationCode                3000 non-null   int64 \n",
      " 22  RaceDesc                    3000 non-null   object\n",
      " 23  MaritalDesc                 3000 non-null   object\n",
      " 24  Performance Score           3000 non-null   object\n",
      " 25  Current Employee Rating     3000 non-null   int64 \n",
      "dtypes: int64(3), object(23)\n",
      "memory usage: 609.5+ KB\n",
      "None\n"
     ]
    }
   ],
   "source": [
    "print(data.info())"
   ]
  },
  {
   "cell_type": "code",
   "execution_count": 4,
   "id": "af6eda85-8dce-4fa9-ab62-43e548b2e457",
   "metadata": {},
   "outputs": [
    {
     "name": "stdout",
     "output_type": "stream",
     "text": [
      "             EmpID  LocationCode  Current Employee Rating\n",
      "count  3000.000000   3000.000000              3000.000000\n",
      "mean   2500.500000  44997.180667                 2.969000\n",
      "std     866.169729  29987.331783                 1.015078\n",
      "min    1001.000000   1013.000000                 1.000000\n",
      "25%    1750.750000  17546.000000                 2.000000\n",
      "50%    2500.500000  44150.500000                 3.000000\n",
      "75%    3250.250000  71481.250000                 3.000000\n",
      "max    4000.000000  98052.000000                 5.000000\n"
     ]
    }
   ],
   "source": [
    "print(data.describe())"
   ]
  },
  {
   "cell_type": "code",
   "execution_count": 7,
   "id": "607a0684-5bac-461e-95e8-ad371fc7141e",
   "metadata": {},
   "outputs": [
    {
     "name": "stdout",
     "output_type": "stream",
     "text": [
      "EmpID                            0\n",
      "FirstName                        0\n",
      "LastName                         0\n",
      "StartDate                        0\n",
      "ExitDate                      1467\n",
      "Title                            0\n",
      "Supervisor                       0\n",
      "ADEmail                          0\n",
      "BusinessUnit                     0\n",
      "EmployeeStatus                   0\n",
      "EmployeeType                     0\n",
      "PayZone                          0\n",
      "EmployeeClassificationType       0\n",
      "TerminationType                  0\n",
      "TerminationDescription        1467\n",
      "DepartmentType                   0\n",
      "Division                         0\n",
      "DOB                              0\n",
      "State                            0\n",
      "JobFunctionDescription           0\n",
      "GenderCode                       0\n",
      "LocationCode                     0\n",
      "RaceDesc                         0\n",
      "MaritalDesc                      0\n",
      "Performance Score                0\n",
      "Current Employee Rating          0\n",
      "dtype: int64\n"
     ]
    }
   ],
   "source": [
    "print(data.isnull().sum())"
   ]
  },
  {
   "cell_type": "code",
   "execution_count": null,
   "id": "ae8fa3c3-4ff6-4af9-99d7-961d2f565131",
   "metadata": {},
   "outputs": [],
   "source": []
  }
 ],
 "metadata": {
  "kernelspec": {
   "display_name": "Python 3 (ipykernel)",
   "language": "python",
   "name": "python3"
  },
  "language_info": {
   "codemirror_mode": {
    "name": "ipython",
    "version": 3
   },
   "file_extension": ".py",
   "mimetype": "text/x-python",
   "name": "python",
   "nbconvert_exporter": "python",
   "pygments_lexer": "ipython3",
   "version": "3.11.4"
  }
 },
 "nbformat": 4,
 "nbformat_minor": 5
}
