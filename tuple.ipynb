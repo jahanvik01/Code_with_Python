{
 "cells": [
  {
   "cell_type": "code",
   "execution_count": 11,
   "id": "4afdae4c-ed0a-44b8-b751-129f80224a68",
   "metadata": {},
   "outputs": [
    {
     "name": "stdout",
     "output_type": "stream",
     "text": [
      "(3, 'Apple', 204, 'B3', 'Audi')\n"
     ]
    }
   ],
   "source": [
    "my_tuple = (3, 'Apple', 204, 'B3', 'Audi')\n",
    "print(my_tuple)"
   ]
  },
  {
   "cell_type": "code",
   "execution_count": 12,
   "id": "d923ec8c-d78e-4e7e-a8d0-9f419362795d",
   "metadata": {},
   "outputs": [
    {
     "name": "stdout",
     "output_type": "stream",
     "text": [
      "('Apple', 204, 'B3')\n"
     ]
    }
   ],
   "source": [
    "#Accessing Values\n",
    "print(my_tuple[1:4])"
   ]
  },
  {
   "cell_type": "code",
   "execution_count": 13,
   "id": "4271f06b-7797-415d-a9d7-0c4985ec0129",
   "metadata": {},
   "outputs": [
    {
     "name": "stdout",
     "output_type": "stream",
     "text": [
      "5\n"
     ]
    }
   ],
   "source": [
    "#length\n",
    "print(len(my_tuple))  "
   ]
  },
  {
   "cell_type": "code",
   "execution_count": 15,
   "id": "57b4fc7d-b8ff-4f89-83bd-468a1b1a65b2",
   "metadata": {},
   "outputs": [
    {
     "name": "stdout",
     "output_type": "stream",
     "text": [
      "List to Tuple: (1, 2, 3, 4)\n",
      "Str to Tuple: ('J', 'a', 'h', 'a', 'n', 'v', 'i', 'K', 'a', 's', 'h', 'y', 'a', 'p')\n",
      "Dict to Tuple: (('apple', 1), ('banana', 2), ('cherry', 3))\n"
     ]
    }
   ],
   "source": [
    "#list to tuple\n",
    "list= [ 1, 2, 3, 4 ] \n",
    "tuple1 = tuple(list)\n",
    "print(\"List to Tuple:\", tuple1)\n",
    "\n",
    "#str to tuple\n",
    "string = \"JahanviKashyap\"; \n",
    "tuple2 = tuple(string)\n",
    "print(\"Str to Tuple:\", tuple2)\n",
    "\n",
    "#dict to tuple\n",
    "my_dict = {'apple': 1, 'banana': 2, 'cherry': 3}\n",
    "tuple3 = tuple(my_dict.items())\n",
    "print(\"Dict to Tuple:\", tuple3)  "
   ]
  },
  {
   "cell_type": "code",
   "execution_count": 2,
   "id": "626ac885-df44-4091-8df2-c6854f017473",
   "metadata": {},
   "outputs": [
    {
     "name": "stdout",
     "output_type": "stream",
     "text": [
      "(1, 2, 3, 4, 5, 6)\n"
     ]
    }
   ],
   "source": [
    "#append list into tuple\n",
    "my_tuple = (1, 2, 3)\n",
    "my_list = [4, 5, 6]\n",
    "\n",
    "new_list = list(my_tuple)\n",
    "new_list.extend(my_list)\n",
    "new_tuple = tuple(new_list)\n",
    "print(\"New tuple:\", new_tuple)"
   ]
  },
  {
   "cell_type": "code",
   "execution_count": null,
   "id": "6935e017-5a90-4255-8ec6-fe2e82882713",
   "metadata": {},
   "outputs": [],
   "source": []
  }
 ],
 "metadata": {
  "kernelspec": {
   "display_name": "Python 3 (ipykernel)",
   "language": "python",
   "name": "python3"
  },
  "language_info": {
   "codemirror_mode": {
    "name": "ipython",
    "version": 3
   },
   "file_extension": ".py",
   "mimetype": "text/x-python",
   "name": "python",
   "nbconvert_exporter": "python",
   "pygments_lexer": "ipython3",
   "version": "3.11.4"
  }
 },
 "nbformat": 4,
 "nbformat_minor": 5
}
