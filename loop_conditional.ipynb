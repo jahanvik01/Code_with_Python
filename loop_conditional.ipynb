{
 "cells": [
  {
   "cell_type": "code",
   "execution_count": 17,
   "id": "75d5541d-80f9-4631-8fbd-8845728df945",
   "metadata": {},
   "outputs": [
    {
     "name": "stdout",
     "output_type": "stream",
     "text": [
      "Name: Jahanvi\n",
      "Age: 21\n",
      "Address: Chapra\n"
     ]
    }
   ],
   "source": [
    "#basic  \n",
    "name = \"Jahanvi\"\n",
    "age = 21\n",
    "address = \"Chapra\"\n",
    "print(\"Name:\", name)\n",
    "print(\"Age:\", age)\n",
    "print(\"Address:\", address)"
   ]
  },
  {
   "cell_type": "code",
   "execution_count": 8,
   "id": "da9362ab-f21c-4226-9a44-c62512bd1d71",
   "metadata": {},
   "outputs": [
    {
     "name": "stdin",
     "output_type": "stream",
     "text": [
      "enter a number: 3\n"
     ]
    },
    {
     "name": "stdout",
     "output_type": "stream",
     "text": [
      "3\n",
      "<class 'str'>\n"
     ]
    }
   ],
   "source": [
    "num= int(input(\"enter a number:\"))\n",
    "print(num)\n",
    "print(type(num))"
   ]
  },
  {
   "cell_type": "code",
   "execution_count": 6,
   "id": "86146a2c-f53e-4ac8-83fe-0408d952bcb8",
   "metadata": {},
   "outputs": [
    {
     "name": "stdin",
     "output_type": "stream",
     "text": [
      "enter a number: 34.4\n"
     ]
    },
    {
     "name": "stdout",
     "output_type": "stream",
     "text": [
      "34.4\n",
      "<class 'float'>\n"
     ]
    }
   ],
   "source": [
    "num= float(input(\"enter a number:\"))\n",
    "print(num)\n",
    "print(type(num))"
   ]
  },
  {
   "cell_type": "code",
   "execution_count": 21,
   "id": "ead291e7-5f3e-4976-bcf0-f37a4deaad51",
   "metadata": {},
   "outputs": [
    {
     "name": "stdin",
     "output_type": "stream",
     "text": [
      "enter an integer: 23\n"
     ]
    },
    {
     "name": "stdout",
     "output_type": "stream",
     "text": [
      "23\n",
      "23 is odd\n"
     ]
    }
   ],
   "source": [
    "#if-else\n",
    "num = int(input(\"enter an integer:\"))\n",
    "print(num)\n",
    "if num % 2==0 : \n",
    "    print(num ,\"is even\")\n",
    "else:\n",
    "    print(num, \"is odd\")"
   ]
  },
  {
   "cell_type": "code",
   "execution_count": 23,
   "id": "107b54bb-b77e-40f7-b6e0-65b74cd625d6",
   "metadata": {},
   "outputs": [
    {
     "name": "stdout",
     "output_type": "stream",
     "text": [
      "It's chilly outside.\n"
     ]
    }
   ],
   "source": [
    "#if-else ladder \n",
    "temperature = 50\n",
    "\n",
    "if temperature > 100:\n",
    "    print(\"It's extremely hot outside.\")\n",
    "elif temperature > 85:\n",
    "    print(\"It's very hot outside.\")\n",
    "elif temperature > 70:\n",
    "    print(\"It's warm outside.\")\n",
    "elif temperature > 55:\n",
    "    print(\"It's cool outside.\")\n",
    "elif temperature > 40:\n",
    "    print(\"It's chilly outside.\")\n",
    "else:\n",
    "    print(\"It's cold outside.\")\n"
   ]
  },
  {
   "cell_type": "code",
   "execution_count": 24,
   "id": "4ea8c317-11f9-4ad4-ba4d-4a81b0fb7294",
   "metadata": {},
   "outputs": [
    {
     "name": "stdout",
     "output_type": "stream",
     "text": [
      "The person is an Adult.\n"
     ]
    }
   ],
   "source": [
    "#nested if-else\n",
    "age = 25\n",
    "\n",
    "if age < 2:\n",
    "    category = \"Infant\"\n",
    "elif age < 4:\n",
    "    category = \"Toddler\"\n",
    "elif age < 13:\n",
    "    category = \"Child\"\n",
    "elif age < 20:\n",
    "    category = \"Teenager\"\n",
    "elif age < 65:\n",
    "    category = \"Adult\"\n",
    "else:\n",
    "    category = \"Senior\"\n",
    "\n",
    "print(f\"The person is an {category}.\")\n"
   ]
  },
  {
   "cell_type": "code",
   "execution_count": 25,
   "id": "45b8f542-5d8f-420e-8117-7ccab12b0c9b",
   "metadata": {},
   "outputs": [
    {
     "name": "stdout",
     "output_type": "stream",
     "text": [
      "1\n",
      "2\n",
      "3\n",
      "4\n",
      "5\n",
      "6\n",
      "7\n",
      "8\n",
      "9\n",
      "10\n"
     ]
    }
   ],
   "source": [
    "#for loop\n",
    "for i in range(1, 11):\n",
    "    print(i)"
   ]
  },
  {
   "cell_type": "code",
   "execution_count": 27,
   "id": "d5a321b5-f00a-4b49-bb31-a9b0d62e5828",
   "metadata": {},
   "outputs": [
    {
     "name": "stdout",
     "output_type": "stream",
     "text": [
      "0\n",
      "2\n",
      "4\n",
      "6\n",
      "8\n"
     ]
    }
   ],
   "source": [
    "# all the even numbers within the given range\n",
    "given_range = 10\n",
    "for i in range(given_range):\n",
    "        if i%2==0:\n",
    "                print(i)"
   ]
  },
  {
   "cell_type": "code",
   "execution_count": 28,
   "id": "ab002adf-7c23-4547-9d29-1e215a1a417e",
   "metadata": {},
   "outputs": [
    {
     "name": "stdout",
     "output_type": "stream",
     "text": [
      "25\n"
     ]
    }
   ],
   "source": [
    "#sum of all the odd numbers within the given range\n",
    "given_range = 10\n",
    "sum = 0\n",
    "for i in range(given_range):\n",
    "        if i%2!=0:\n",
    "                sum+=i\n",
    "print(sum)"
   ]
  },
  {
   "cell_type": "code",
   "execution_count": 30,
   "id": "7bcc4ee4-c708-4b12-b649-3d04be709585",
   "metadata": {},
   "outputs": [
    {
     "name": "stdin",
     "output_type": "stream",
     "text": [
      "Enter the number:  3\n"
     ]
    },
    {
     "name": "stdout",
     "output_type": "stream",
     "text": [
      "3 x 1 = 3\n",
      "3 x 2 = 6\n",
      "3 x 3 = 9\n",
      "3 x 4 = 12\n",
      "3 x 5 = 15\n",
      "3 x 6 = 18\n",
      "3 x 7 = 21\n",
      "3 x 8 = 24\n",
      "3 x 9 = 27\n",
      "3 x 10 = 30\n"
     ]
    }
   ],
   "source": [
    "#while loop\n",
    "num = int(input(\"Enter the number: \"))\n",
    "i = 1\n",
    "while i <= 10:\n",
    "    print(num, \"x\" ,i, \"=\" ,num * i)\n",
    "    i += 1"
   ]
  },
  {
   "cell_type": "code",
   "execution_count": 31,
   "id": "7ca0dbe8-08dc-4c8e-963b-fb8f2d1075de",
   "metadata": {},
   "outputs": [
    {
     "name": "stdin",
     "output_type": "stream",
     "text": [
      "Enter a number:  34\n"
     ]
    },
    {
     "name": "stdout",
     "output_type": "stream",
     "text": [
      "Reversed number is: 43\n"
     ]
    }
   ],
   "source": [
    "#Print the reverse of a given number\n",
    "number = int(input(\"Enter a number: \"))\n",
    "reverse = 0\n",
    "while number > 0:\n",
    "    digit = number % 10\n",
    "    reverse = reverse * 10 + digit\n",
    "    number = number // 10\n",
    "\n",
    "print(f\"Reversed number is: {reverse}\")\n"
   ]
  },
  {
   "cell_type": "code",
   "execution_count": 34,
   "id": "56f89bf1-ce64-4c14-8934-3385396b2ea9",
   "metadata": {},
   "outputs": [
    {
     "name": "stdin",
     "output_type": "stream",
     "text": [
      "enter an integer: 5\n"
     ]
    },
    {
     "name": "stdout",
     "output_type": "stream",
     "text": [
      "0\n",
      "1\n",
      "1\n",
      "2\n",
      "3\n"
     ]
    }
   ],
   "source": [
    "#Print the first 10 Fibonacci numbers\n",
    "a, b = 0, 1\n",
    "count = 0\n",
    "n = int(input(\"enter an integer:\"))\n",
    "while count < n:\n",
    "    print(a)\n",
    "    a, b = b, a + b\n",
    "    count += 1"
   ]
  }
 ],
 "metadata": {
  "kernelspec": {
   "display_name": "Python 3 (ipykernel)",
   "language": "python",
   "name": "python3"
  },
  "language_info": {
   "codemirror_mode": {
    "name": "ipython",
    "version": 3
   },
   "file_extension": ".py",
   "mimetype": "text/x-python",
   "name": "python",
   "nbconvert_exporter": "python",
   "pygments_lexer": "ipython3",
   "version": "3.11.4"
  }
 },
 "nbformat": 4,
 "nbformat_minor": 5
}
