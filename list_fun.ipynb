{
 "cells": [
  {
   "cell_type": "code",
   "execution_count": 1,
   "id": "81f5bfeb-0890-4094-94b9-c67ad7f7347c",
   "metadata": {},
   "outputs": [
    {
     "name": "stdout",
     "output_type": "stream",
     "text": [
      "[3, 'Apple', 204, 'B3', 'Audi']\n"
     ]
    }
   ],
   "source": [
    "my_list = [3, 'Apple', 204, 'B3', 'Audi']\n",
    "print(my_list)"
   ]
  },
  {
   "cell_type": "code",
   "execution_count": 2,
   "id": "2e8531d0-e564-4d3f-bbb8-9a2f2404868b",
   "metadata": {},
   "outputs": [
    {
     "name": "stdout",
     "output_type": "stream",
     "text": [
      "5\n"
     ]
    }
   ],
   "source": [
    "#length \n",
    "length = len(my_list)\n",
    "print(length)"
   ]
  },
  {
   "cell_type": "code",
   "execution_count": 3,
   "id": "ff760fce-960a-4ab4-a4cd-d7cc625dbd4f",
   "metadata": {},
   "outputs": [
    {
     "name": "stdout",
     "output_type": "stream",
     "text": [
      "[3, 'Apple', 204, 'B3', 'Audi', 503]\n"
     ]
    }
   ],
   "source": [
    "#append\n",
    "my_list.append(503)\n",
    "print(my_list)"
   ]
  },
  {
   "cell_type": "code",
   "execution_count": 15,
   "id": "9fc4ab86-2f47-46e0-9095-bdfe7cf5a739",
   "metadata": {},
   "outputs": [
    {
     "name": "stdout",
     "output_type": "stream",
     "text": [
      "['Banana', 204, 'Apple', 3, 33, 'Banana', 'Cheery']\n"
     ]
    }
   ],
   "source": [
    "#extend\n",
    "new_list = [33, 'Banana', 'Cheery']\n",
    "my_list.extend(new_list)\n",
    "print(my_list)"
   ]
  },
  {
   "cell_type": "code",
   "execution_count": 17,
   "id": "8807d252-8f8e-4754-874a-004d120c8ef5",
   "metadata": {},
   "outputs": [
    {
     "name": "stdout",
     "output_type": "stream",
     "text": [
      "['Banana', 204, 'Orange', 'Apple', 3, 33, 'Banana', 'Cheery']\n"
     ]
    }
   ],
   "source": [
    "#insert\n",
    "my_list.insert(2, 'Orange')\n",
    "print(my_list)"
   ]
  },
  {
   "cell_type": "code",
   "execution_count": 18,
   "id": "fe12ae0b-eb17-4e38-8c2e-21aad9bd7a81",
   "metadata": {},
   "outputs": [
    {
     "name": "stdout",
     "output_type": "stream",
     "text": [
      "['Banana', 204, 'Apple', 3, 33, 'Banana', 'Cheery']\n"
     ]
    }
   ],
   "source": [
    "#remove\n",
    "my_list.remove('Orange')\n",
    "print(my_list)"
   ]
  },
  {
   "cell_type": "code",
   "execution_count": 20,
   "id": "afb680e2-8ca5-4099-96c1-fa94998c103e",
   "metadata": {},
   "outputs": [
    {
     "name": "stdout",
     "output_type": "stream",
     "text": [
      "2\n"
     ]
    }
   ],
   "source": [
    "#index\n",
    "index = my_list.index('Apple')\n",
    "print(index)"
   ]
  },
  {
   "cell_type": "code",
   "execution_count": 21,
   "id": "cf152f6d-3337-47fc-8bc2-3431da3a80cc",
   "metadata": {},
   "outputs": [
    {
     "name": "stdout",
     "output_type": "stream",
     "text": [
      "['Cheery', 'Banana', 33, 3, 'Apple', 204, 'Banana']\n"
     ]
    }
   ],
   "source": [
    "#reverse\n",
    "my_list.reverse()\n",
    "print(my_list)"
   ]
  },
  {
   "cell_type": "code",
   "execution_count": 23,
   "id": "965577e2-fd9a-4b31-a119-df107bf698ae",
   "metadata": {},
   "outputs": [
    {
     "name": "stdout",
     "output_type": "stream",
     "text": [
      "New List =  [23, 45, 11, 89, 34, 45, 90, 28, 11, 101]\n"
     ]
    }
   ],
   "source": [
    "new_list = [23, 45, 11, 89, 34, 45, 90, 28, 11, 101]\n",
    "print(\"New List = \", new_list)"
   ]
  },
  {
   "cell_type": "code",
   "execution_count": 25,
   "id": "b25da3ca-09c6-4a0c-9557-203ec473ca0d",
   "metadata": {},
   "outputs": [
    {
     "data": {
      "text/plain": [
       "2"
      ]
     },
     "execution_count": 25,
     "metadata": {},
     "output_type": "execute_result"
    }
   ],
   "source": [
    "#count\n",
    "new_list.count(11)"
   ]
  },
  {
   "cell_type": "code",
   "execution_count": 26,
   "id": "ebdc0d05-2b9d-4b6b-8ac1-b1932e756f79",
   "metadata": {},
   "outputs": [
    {
     "name": "stdout",
     "output_type": "stream",
     "text": [
      "[11, 11, 23, 28, 34, 45, 45, 89, 90, 101]\n"
     ]
    }
   ],
   "source": [
    "#sort\n",
    "new_list.sort()\n",
    "print(new_list)"
   ]
  },
  {
   "cell_type": "code",
   "execution_count": 34,
   "id": "e0cf1ea3-550d-4a38-b8a7-dedc7ef7d077",
   "metadata": {},
   "outputs": [
    {
     "name": "stdout",
     "output_type": "stream",
     "text": [
      "Minimum:  11\n",
      "Maximum: 101\n",
      "Total Sum: 477\n"
     ]
    }
   ],
   "source": [
    "#min max sum\n",
    "print(\"Minimum: \",min(new_list))\n",
    "print(\"Maximum:\",max(new_list))\n",
    "print(\"Total Sum:\",sum(new_list))"
   ]
  },
  {
   "cell_type": "code",
   "execution_count": 39,
   "id": "8ae665cf-7eed-4b8b-98e4-08a86bdcf1b5",
   "metadata": {},
   "outputs": [
    {
     "name": "stdout",
     "output_type": "stream",
     "text": [
      "[]\n"
     ]
    }
   ],
   "source": [
    "new_list.clear()\n",
    "print(new_list)"
   ]
  }
 ],
 "metadata": {
  "kernelspec": {
   "display_name": "Python 3 (ipykernel)",
   "language": "python",
   "name": "python3"
  },
  "language_info": {
   "codemirror_mode": {
    "name": "ipython",
    "version": 3
   },
   "file_extension": ".py",
   "mimetype": "text/x-python",
   "name": "python",
   "nbconvert_exporter": "python",
   "pygments_lexer": "ipython3",
   "version": "3.11.4"
  }
 },
 "nbformat": 4,
 "nbformat_minor": 5
}
