{
 "cells": [
  {
   "cell_type": "code",
   "execution_count": 2,
   "id": "56b08d17-0a46-4fa3-8286-63891f823b69",
   "metadata": {},
   "outputs": [
    {
     "name": "stdout",
     "output_type": "stream",
     "text": [
      "     EID     Name Gender   Salary\n",
      "0  EMP01   ayushi      F      NaN\n",
      "1  EMP02    rohit      M  25000.0\n",
      "2  EMP03   monika      F  27000.0\n",
      "3  EMP04  pranjal    NaN  20000.0\n",
      "4  EMP01      NaN      M  30000.0\n",
      "5  EMP05    rohit      M      NaN\n",
      "6  EMP06    rohit      M  15000.0\n",
      "7  EMP02    disha      F  27000.0\n"
     ]
    }
   ],
   "source": [
    "import pandas as pd\n",
    "data = pd.read_csv(\"table.csv\")\n",
    "print(data)"
   ]
  },
  {
   "cell_type": "code",
   "execution_count": 3,
   "id": "42cd47f4-e7b4-4397-ac46-513c1f9f0135",
   "metadata": {},
   "outputs": [
    {
     "name": "stdout",
     "output_type": "stream",
     "text": [
      "2\n"
     ]
    }
   ],
   "source": [
    "print(data[\"EID\"].duplicated().sum())"
   ]
  },
  {
   "cell_type": "code",
   "execution_count": 4,
   "id": "1967c800-cf0b-4caa-8a58-493935ed678e",
   "metadata": {},
   "outputs": [
    {
     "name": "stdout",
     "output_type": "stream",
     "text": [
      "     EID     Name Gender   Salary\n",
      "0  EMP01   ayushi      F      NaN\n",
      "1  EMP02    rohit      M  25000.0\n",
      "2  EMP03   monika      F  27000.0\n",
      "3  EMP04  pranjal    NaN  20000.0\n",
      "5  EMP05    rohit      M      NaN\n",
      "6  EMP06    rohit      M  15000.0\n"
     ]
    }
   ],
   "source": [
    "print(data.drop_duplicates(\"EID\"))"
   ]
  },
  {
   "cell_type": "code",
   "execution_count": 5,
   "id": "ddf0373a-5143-4ca3-9a12-132fadb9b876",
   "metadata": {},
   "outputs": [
    {
     "name": "stdout",
     "output_type": "stream",
     "text": [
      "EID       0\n",
      "Name      1\n",
      "Gender    1\n",
      "Salary    2\n",
      "dtype: int64\n"
     ]
    }
   ],
   "source": [
    "print(data.isnull().sum())"
   ]
  },
  {
   "cell_type": "code",
   "execution_count": 6,
   "id": "4bc57e22-0abe-45ec-8872-02250a1de34a",
   "metadata": {},
   "outputs": [
    {
     "name": "stdout",
     "output_type": "stream",
     "text": [
      "     EID     Name Gender   Salary\n",
      "0  EMP01   ayushi      F  24000.0\n",
      "1  EMP02    rohit      M  25000.0\n",
      "2  EMP03   monika      F  27000.0\n",
      "3  EMP04  pranjal    NaN  20000.0\n",
      "4  EMP01      NaN      M  30000.0\n",
      "5  EMP05    rohit      M  24000.0\n",
      "6  EMP06    rohit      M  15000.0\n",
      "7  EMP02    disha      F  27000.0\n"
     ]
    }
   ],
   "source": [
    "import numpy as np\n",
    "data[\"Salary\"] = data[\"Salary\"].replace(np.nan,data[\"Salary\"].mean())\n",
    "print(data)"
   ]
  },
  {
   "cell_type": "code",
   "execution_count": 7,
   "id": "e9ce4e0a-d3b5-47a7-ac2b-47c2ac39e504",
   "metadata": {},
   "outputs": [
    {
     "name": "stdout",
     "output_type": "stream",
     "text": [
      "     EID     Name Gender   Salary\n",
      "0  EMP01   ayushi      F  24000.0\n",
      "1  EMP02    rohit      M  25000.0\n",
      "2  EMP03   monika      F  27000.0\n",
      "3  EMP04  pranjal      M  20000.0\n",
      "4  EMP01    rohit      M  30000.0\n",
      "5  EMP05    rohit      M  24000.0\n",
      "6  EMP06    rohit      M  15000.0\n",
      "7  EMP02    disha      F  27000.0\n"
     ]
    },
    {
     "name": "stderr",
     "output_type": "stream",
     "text": [
      "C:\\Users\\missj\\AppData\\Local\\Temp\\ipykernel_2052\\2754045057.py:1: FutureWarning: DataFrame.fillna with 'method' is deprecated and will raise in a future version. Use obj.ffill() or obj.bfill() instead.\n",
      "  print(data.fillna(method = \"bfill\"))\n"
     ]
    }
   ],
   "source": [
    "print(data.fillna(method = \"bfill\"))"
   ]
  },
  {
   "cell_type": "code",
   "execution_count": 8,
   "id": "0901ce0a-b6d4-4b15-be25-4e2a82d1b86c",
   "metadata": {},
   "outputs": [
    {
     "name": "stdout",
     "output_type": "stream",
     "text": [
      "     EID     Name Gender   Salary\n",
      "0  EMP01   ayushi      F  24000.0\n",
      "1  EMP02    rohit      M  25000.0\n",
      "2  EMP03   monika      F  27000.0\n",
      "3  EMP04  pranjal      F  20000.0\n",
      "4  EMP01  pranjal      M  30000.0\n",
      "5  EMP05    rohit      M  24000.0\n",
      "6  EMP06    rohit      M  15000.0\n",
      "7  EMP02    disha      F  27000.0\n"
     ]
    },
    {
     "name": "stderr",
     "output_type": "stream",
     "text": [
      "C:\\Users\\missj\\AppData\\Local\\Temp\\ipykernel_2052\\1391920301.py:1: FutureWarning: DataFrame.fillna with 'method' is deprecated and will raise in a future version. Use obj.ffill() or obj.bfill() instead.\n",
      "  print(data.fillna(method = \"ffill\"))\n"
     ]
    }
   ],
   "source": [
    "print(data.fillna(method = \"ffill\"))"
   ]
  },
  {
   "cell_type": "code",
   "execution_count": 9,
   "id": "c79a7afc-6d22-4897-a92f-49ed4e6cf844",
   "metadata": {},
   "outputs": [
    {
     "name": "stdout",
     "output_type": "stream",
     "text": [
      "  Employee ID         Full Name              Job Title   Department  \\\n",
      "0      E02002            Kai Le      Controls Engineer  Engineering   \n",
      "1      E02003      Robert Patel                Analyst        Sales   \n",
      "2      E02004        Cameron Lo  Network Administrator           IT   \n",
      "3      E02005   Harper Castillo   IT Systems Architect           IT   \n",
      "4      E02006  Harper Dominguez               Director  Engineering   \n",
      "5      E02007           Ezra Vu  Network Administrator           IT   \n",
      "6      E02008           Jade Hu                    NaN   Accounting   \n",
      "7      E02009       Miles Chang             Analyst II      Finance   \n",
      "8      E02010     Gianna Holmes  System Administrator            IT   \n",
      "9      E02011    Jameson Thomas                Manager      Finance   \n",
      "\n",
      "            Business Unit  Gender  Ethnicity  Age  Hire Date  Annual Salary  \\\n",
      "0           Manufacturing    Male      Asian   47 2022-02-05          92368   \n",
      "1               Corporate    Male      Asian   58 2013-10-23          45703   \n",
      "2  Research & Development    Male      Asian   34 2019-03-24          83576   \n",
      "3               Corporate  Female     Latino   39 2018-04-07          98062   \n",
      "4               Corporate  Female     Latino   42 2005-06-18         175391   \n",
      "5           Manufacturing    Male      Asian   62 2004-04-22          66227   \n",
      "6      Specialty Products  Female      Asian   58 2009-06-27          89744   \n",
      "7               Corporate    Male      Asian   62 1999-02-19          69674   \n",
      "8           Manufacturing  Female  Caucasian   38 2011-09-09          97630   \n",
      "9      Specialty Products    Male  Caucasian   52 2015-02-05         105879   \n",
      "\n",
      "   Bonus %        Country       City  Exit Date  GetBonus  \n",
      "0     0.00  United States   Columbus        NaT  No Bonus  \n",
      "1     0.00  United States    Chicago        NaT  No Bonus  \n",
      "2     0.00          China   Shanghai        NaT  No Bonus  \n",
      "3     0.00  United States    Seattle        NaT  No Bonus  \n",
      "4     0.24  United States     Austin        NaT     Bonus  \n",
      "5     0.00  United States    Phoenix 2014-02-14  No Bonus  \n",
      "6     0.00          China  Chongqing        NaT  No Bonus  \n",
      "7     0.00          China    Chengdu        NaT  No Bonus  \n",
      "8     0.00  United States    Seattle        NaT  No Bonus  \n",
      "9     0.10  United States      Miami        NaT     Bonus  \n"
     ]
    }
   ],
   "source": [
    "df = pd.read_excel(\"employee.xlsx\")\n",
    "# print(df.tail(10))\n",
    "\n",
    "df.loc[(df[\"Bonus %\"] == 0), \"GetBonus\"] = \"No Bonus\"\n",
    "df.loc[(df[\"Bonus %\"] > 0), \"GetBonus\"] = \"Bonus\"\n",
    "print(df.head(10))"
   ]
  },
  {
   "cell_type": "code",
   "execution_count": 19,
   "id": "a340bf17-3828-4aa0-a447-315199dc40d4",
   "metadata": {},
   "outputs": [
    {
     "name": "stdout",
     "output_type": "stream",
     "text": [
      "  FirstName   LastName  Salary EID        Full Name    Bonus\n",
      "0      ross  tribbiani   20000  E1   Ross Tribbiani   4000.0\n",
      "1    rachel      bing    40000  E2     Rachel Bing    8000.0\n",
      "2    monica      green   25000  E7     Monica Green   5000.0\n",
      "3      joey     geller   60000  E8      Joey Geller  12000.0\n",
      "4  chandler     buffay   33000  E4  Chandler Buffay   6600.0\n",
      "5    phoebe      bing    45000  E5     Phoebe Bing    9000.0\n"
     ]
    }
   ],
   "source": [
    "data = pd.read_excel(\"table2.xlsx\")\n",
    "# print(data)\n",
    "\n",
    "data[\"Full Name\"] = data[\"FirstName\"].str.capitalize() +\" \"+ data[\"LastName\"].str.capitalize()\n",
    "data[\"Bonus\"] = (data[\"Salary\"]/100)*20\n",
    "print(data)"
   ]
  },
  {
   "cell_type": "code",
   "execution_count": 24,
   "id": "87d8cd8d-9ef3-4aa2-9af2-8f0ce0d99260",
   "metadata": {},
   "outputs": [
    {
     "name": "stdout",
     "output_type": "stream",
     "text": [
      "     Months Short_months\n",
      "0   January          Jan\n",
      "1  February          Feb\n",
      "2     March          Mar\n",
      "3     April          Apr\n"
     ]
    }
   ],
   "source": [
    "data = {\"Months\":[\"January\",\"February\",\"March\",\"April\"]}\n",
    "a = pd.DataFrame(data)\n",
    "# print(a)\n",
    "\n",
    "def extract(values):\n",
    "        return values[0:3]\n",
    "\n",
    "a[\"Short_months\"] = a[\"Months\"].map(extract)\n",
    "print(a)"
   ]
  },
  {
   "cell_type": "code",
   "execution_count": 26,
   "id": "f5fb0a13-d162-41b4-a0cd-5ab098d6451d",
   "metadata": {},
   "outputs": [
    {
     "name": "stdout",
     "output_type": "stream",
     "text": [
      "  Employee ID         Full Name              Job Title   Department  \\\n",
      "0      E02002            Kai Le      Controls Engineer  Engineering   \n",
      "1      E02003      Robert Patel                Analyst        Sales   \n",
      "2      E02004        Cameron Lo  Network Administrator           IT   \n",
      "3      E02005   Harper Castillo   IT Systems Architect           IT   \n",
      "4      E02006  Harper Dominguez               Director  Engineering   \n",
      "5      E02007           Ezra Vu  Network Administrator           IT   \n",
      "6      E02008           Jade Hu                    NaN   Accounting   \n",
      "7      E02009       Miles Chang             Analyst II      Finance   \n",
      "8      E02010     Gianna Holmes  System Administrator            IT   \n",
      "9      E02011    Jameson Thomas                Manager      Finance   \n",
      "\n",
      "            Business Unit  Gender  Ethnicity  Age  Hire Date  Annual Salary  \\\n",
      "0           Manufacturing    Male      Asian   47 2022-02-05          92368   \n",
      "1               Corporate    Male      Asian   58 2013-10-23          45703   \n",
      "2  Research & Development    Male      Asian   34 2019-03-24          83576   \n",
      "3               Corporate  Female     Latino   39 2018-04-07          98062   \n",
      "4               Corporate  Female     Latino   42 2005-06-18         175391   \n",
      "5           Manufacturing    Male      Asian   62 2004-04-22          66227   \n",
      "6      Specialty Products  Female      Asian   58 2009-06-27          89744   \n",
      "7               Corporate    Male      Asian   62 1999-02-19          69674   \n",
      "8           Manufacturing  Female  Caucasian   38 2011-09-09          97630   \n",
      "9      Specialty Products    Male  Caucasian   52 2015-02-05         105879   \n",
      "\n",
      "   Bonus %        Country       City  Exit Date  \n",
      "0     0.00  United States   Columbus        NaT  \n",
      "1     0.00  United States    Chicago        NaT  \n",
      "2     0.00          China   Shanghai        NaT  \n",
      "3     0.00  United States    Seattle        NaT  \n",
      "4     0.24  United States     Austin        NaT  \n",
      "5     0.00  United States    Phoenix 2014-02-14  \n",
      "6     0.00          China  Chongqing        NaT  \n",
      "7     0.00          China    Chengdu        NaT  \n",
      "8     0.00  United States    Seattle        NaT  \n",
      "9     0.10  United States      Miami        NaT  \n"
     ]
    }
   ],
   "source": [
    "data = pd.read_excel(\"employee.xlsx\")\n",
    "print(data.head(10))"
   ]
  },
  {
   "cell_type": "code",
   "execution_count": 30,
   "id": "0838559e-a41b-4e1b-9aa1-e444e63fb652",
   "metadata": {},
   "outputs": [
    {
     "name": "stdout",
     "output_type": "stream",
     "text": [
      "                        Employee ID\n",
      "Department      Gender             \n",
      "Accounting      Female           57\n",
      "                Male             58\n",
      "Engineering     Female           71\n",
      "                Male             70\n",
      "Finance         Female           50\n",
      "                Male             48\n",
      "Human Resources Female           59\n",
      "                Male             50\n",
      "IT              Female          139\n",
      "                Male            138\n",
      "Marketing       Female           64\n",
      "                Male             46\n",
      "Sales           Female           75\n",
      "                Male             75\n"
     ]
    }
   ],
   "source": [
    "gp = data.groupby([\"Department\",\"Gender\"]).agg({\"Employee ID\":\"count\"})\n",
    "print(gp)"
   ]
  },
  {
   "cell_type": "code",
   "execution_count": 41,
   "id": "0c006082-9908-42c3-ba67-4d170a5a36fc",
   "metadata": {},
   "outputs": [
    {
     "name": "stdout",
     "output_type": "stream",
     "text": [
      "                      Annual Salary  Age\n",
      "Country       Gender                    \n",
      "Brazil        Female          42075   65\n",
      "              Male            42994   65\n",
      "China         Female          40352   65\n",
      "              Male            40778   65\n",
      "United States Female          41616   65\n",
      "              Male            40499   65\n"
     ]
    }
   ],
   "source": [
    "gp1 = data.groupby([\"Country\",\"Gender\"]).agg({\"Annual Salary\":\"min\",\"Age\":\"max\"})\n",
    "print(gp1)"
   ]
  },
  {
   "cell_type": "code",
   "execution_count": 46,
   "id": "f5cf6820-8798-448f-ad1c-e8642cfaa5ab",
   "metadata": {},
   "outputs": [
    {
     "name": "stdout",
     "output_type": "stream",
     "text": [
      "   EID    Name  Age\n",
      "0  E01     Ram   34\n",
      "1  E02   Shyam   42\n",
      "2  E03    Rita   23\n",
      "3  E04  Vishal   26\n",
      "4  E05    Rani   31\n",
      "5  E06    John   29\n",
      "   EID  Salary\n",
      "0  E01   23000\n",
      "1  E07   34000\n",
      "2  E03   20000\n",
      "3  E04   30000\n",
      "4  E08   15000\n",
      "5  E06   21000\n"
     ]
    }
   ],
   "source": [
    "data1 = {\"EID\": [\"E01\",\"E02\",\"E03\",\"E04\",\"E05\",\"E06\"],\n",
    "        \"Name\": [\"Ram\",\"Shyam\",\"Rita\",\"Vishal\",\"Rani\",\"John\"],\n",
    "        \"Age\": [34,42,23,26,31,29]}\n",
    "data2 = {\"EID\": [\"E01\",\"E07\",\"E03\",\"E04\",\"E08\",\"E06\"],\n",
    "        \"Salary\": [23000,34000,20000,30000,15000,21000]}\n",
    "df1 = pd.DataFrame(data1)\n",
    "df2 = pd.DataFrame(data2)\n",
    "print(df1)\n",
    "print(df2)"
   ]
  },
  {
   "cell_type": "code",
   "execution_count": 54,
   "id": "526f96d2-a192-49f2-9973-5fa0c2f577bf",
   "metadata": {},
   "outputs": [
    {
     "name": "stdout",
     "output_type": "stream",
     "text": [
      "   EID    Name  Age   Salary\n",
      "0  E01     Ram   34  23000.0\n",
      "1  E02   Shyam   42      NaN\n",
      "2  E03    Rita   23  20000.0\n",
      "3  E04  Vishal   26  30000.0\n",
      "4  E05    Rani   31      NaN\n",
      "5  E06    John   29  21000.0\n"
     ]
    }
   ],
   "source": [
    "print(pd.merge(df1,df2,on=\"EID\", how= \"left\"))"
   ]
  },
  {
   "cell_type": "code",
   "execution_count": 52,
   "id": "5d932253-3109-4851-9cfb-edbb4ad41958",
   "metadata": {},
   "outputs": [
    {
     "name": "stdout",
     "output_type": "stream",
     "text": [
      "   EID    Name   Age  Salary\n",
      "0  E01     Ram  34.0   23000\n",
      "1  E07     NaN   NaN   34000\n",
      "2  E03    Rita  23.0   20000\n",
      "3  E04  Vishal  26.0   30000\n",
      "4  E08     NaN   NaN   15000\n",
      "5  E06    John  29.0   21000\n"
     ]
    }
   ],
   "source": [
    "print(pd.merge(df1,df2,on=\"EID\", how= \"right\"))"
   ]
  },
  {
   "cell_type": "code",
   "execution_count": 55,
   "id": "3971274a-f8d0-41dc-9421-aad31ff0aed9",
   "metadata": {},
   "outputs": [
    {
     "name": "stdout",
     "output_type": "stream",
     "text": [
      "   EID    Name   Age   Salary\n",
      "0  E01     Ram  34.0  23000.0\n",
      "1  E02   Shyam  42.0      NaN\n",
      "2  E03    Rita  23.0  20000.0\n",
      "3  E04  Vishal  26.0  30000.0\n",
      "4  E05    Rani  31.0      NaN\n",
      "5  E06    John  29.0  21000.0\n",
      "6  E07     NaN   NaN  34000.0\n",
      "7  E08     NaN   NaN  15000.0\n"
     ]
    }
   ],
   "source": [
    "print(pd.merge(df1,df2,on=\"EID\", how= \"outer\"))"
   ]
  },
  {
   "cell_type": "code",
   "execution_count": 74,
   "id": "f1fa8f8c-5fd3-4e1c-8cda-70c216b55dc9",
   "metadata": {},
   "outputs": [
    {
     "name": "stdout",
     "output_type": "stream",
     "text": [
      "       Fruit  Price  Quantity\n",
      "0      Mango    100        20\n",
      "1  Pineapple     45         5\n",
      "2     Banana     80        12\n",
      "3      Apple    220        15\n",
      "       Fruit  Price  Quantity\n",
      "0      Mango    120        12\n",
      "1  Pineapple     40         6\n",
      "2     Banana     80        10\n",
      "3      Apple    200         8\n",
      "  Fruit        Price        Quantity      \n",
      "   self other   self  other     self other\n",
      "0   NaN   NaN  100.0  120.0       20    12\n",
      "1   NaN   NaN   45.0   40.0        5     6\n",
      "2   NaN   NaN    NaN    NaN       12    10\n",
      "3   NaN   NaN  220.0  200.0       15     8\n"
     ]
    }
   ],
   "source": [
    "dict = {\"Fruit\":[\"Mango\",\"Pineapple\",\"Banana\",\"Apple\"],\n",
    "       \"Price\":[100,45,80,220],\n",
    "       \"Quantity\":[20,5,12,15]}\n",
    "df1 = pd.DataFrame(dict)\n",
    "print(df1)\n",
    "\n",
    "df2 = df1.copy()\n",
    "df2.loc[0,\"Price\"]=120\n",
    "df2.loc[1,\"Price\"]=40\n",
    "df2.loc[3,\"Price\"]=200\n",
    "df2.loc[0,\"Quantity\"]=12\n",
    "df2.loc[1,\"Quantity\"]=6\n",
    "df2.loc[2,\"Quantity\"]=10\n",
    "df2.loc[3,\"Quantity\"]=8\n",
    "\n",
    "print(df2)\n",
    "print(df1.compare(df2,keep_shape=True))"
   ]
  },
  {
   "cell_type": "code",
   "execution_count": 81,
   "id": "62d9a10b-b706-44ca-91c5-9b79af7f4e76",
   "metadata": {},
   "outputs": [
    {
     "name": "stdout",
     "output_type": "stream",
     "text": [
      "      House                      Grade                  \n",
      "Names Malti  Mohan   Reeta Shila Malti Mohan Reeta Shila\n",
      "keys                                                    \n",
      "k1      NaN  Green     NaN   Red   NaN   2nd   NaN   4th\n",
      "k2     Blue    NaN  Yellow   NaN   5th   NaN   6th   NaN\n"
     ]
    }
   ],
   "source": [
    "#pivoting\n",
    "dict = {\"keys\":[\"k1\",\"k2\",\"k1\",\"k2\"],\n",
    "       \"Names\":[\"Shila\",\"Reeta\",\"Mohan\",\"Malti\"],\n",
    "       \"House\":[\"Red\",\"Yellow\",\"Green\",\"Blue\"],\n",
    "       \"Grade\":[\"4th\",\"6th\",\"2nd\",\"5th\"]}\n",
    "\n",
    "df = pd.DataFrame(dict)\n",
    "# print(df)\n",
    "print(df.pivot(index=\"keys\",columns=\"Names\",values=[\"House\",\"Grade\"]))"
   ]
  },
  {
   "cell_type": "code",
   "execution_count": 85,
   "id": "263a3847-cc8c-4188-b1ef-cf8e71482864",
   "metadata": {},
   "outputs": [
    {
     "name": "stdout",
     "output_type": "stream",
     "text": [
      "   Names variable   value\n",
      "0  Shila    House     Red\n",
      "1  Reeta    House  Yellow\n",
      "2  Mohan    House   Green\n",
      "3  Malti    House    Blue\n",
      "4  Shila    Grade     4th\n",
      "5  Reeta    Grade     6th\n",
      "6  Mohan    Grade     2nd\n",
      "7  Malti    Grade     5th\n"
     ]
    }
   ],
   "source": [
    "#melting\n",
    "dict = {\"Names\":[\"Shila\",\"Reeta\",\"Mohan\",\"Malti\"],\n",
    "       \"House\":[\"Red\",\"Yellow\",\"Green\",\"Blue\"],\n",
    "       \"Grade\":[\"4th\",\"6th\",\"2nd\",\"5th\"]}\n",
    "\n",
    "df = pd.DataFrame(dict)\n",
    "#print(df)\n",
    "print(pd.melt(df,id_vars=[\"Names\"],value_vars=[\"House\",\"Grade\"]))"
   ]
  },
  {
   "cell_type": "code",
   "execution_count": null,
   "id": "82495c23-859a-476f-97e7-a1f948cf340a",
   "metadata": {},
   "outputs": [],
   "source": []
  }
 ],
 "metadata": {
  "kernelspec": {
   "display_name": "Python 3 (ipykernel)",
   "language": "python",
   "name": "python3"
  },
  "language_info": {
   "codemirror_mode": {
    "name": "ipython",
    "version": 3
   },
   "file_extension": ".py",
   "mimetype": "text/x-python",
   "name": "python",
   "nbconvert_exporter": "python",
   "pygments_lexer": "ipython3",
   "version": "3.11.4"
  }
 },
 "nbformat": 4,
 "nbformat_minor": 5
}
